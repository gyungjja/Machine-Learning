{
 "cells": [
  {
   "cell_type": "code",
   "execution_count": 39,
   "metadata": {},
   "outputs": [
    {
     "name": "stdout",
     "output_type": "stream",
     "text": [
      "[[2, 3, 2], [4, 4, 1], [5, 1, 4]]\n",
      "[[1, 3], [3, 3], [1, 1]]\n",
      "[[21, 23], [6, 8]]\n",
      "[[4, 4, 4], [5, 4, 3], [5, 1, 2]]\n",
      "[[3, 3, 5, 1, 2], [3, 4, 4, 1, 5], [4, 2, 4, 1, 4]]\n",
      "[[40, 36, 52, 12, 44], [39, 37, 53, 12, 42], [26, 23, 37, 8, 23]]\n",
      "[[1, 5, 5], [1, 1, 2]]\n",
      "[[1, 3], [3, 3], [1, 1]]\n",
      "[[21, 23], [6, 8]]\n"
     ]
    }
   ],
   "source": [
    "import random\n",
    "\n",
    "random.seed(20167149)\n",
    "def makeMatrix(row,col):    #행렬 만들기 함수\n",
    "    matrix = []    #matrix 변수에 리스트를 선언\n",
    "    for x in range(row):    #row값까지 반복\n",
    "        a = []    #변수 a 리스트 선언\n",
    "        for y in range(col):    #col값까지 반복 추가\n",
    "            a.append(random.randint(1,5))    #a에 1~5사이 난수 추가.\n",
    "        matrix.append(a)    #matrix에 a 요소 추가\n",
    "    return matrix    #matrix 반환\n",
    "\n",
    "def matMul(mat1,mat2):    #행렬 곱셈 함수\n",
    "    mat3 = [len(mat2[0])*[0] for i in range(len(mat1))]    #mat1,mat2 행렬 길이 값 반복\n",
    "    \n",
    "    for i in range(len(mat3)):    #행값 mat3 길이값 반복\n",
    "        for j in range(len(mat3[i])):    #mat3 i번째 길이값 반복\n",
    "            for k in range(len(mat1[i])):    #첫번쨰 행렬 i번째 길이값 반복\n",
    "                mat3[i][j] += mat1[i][k]*mat2[k][j]    #첫번째 행렬 두번째 행렬 곱한값을 mat3행렬과\n",
    "                \n",
    "    return mat3    #mat3 행렬 반환\n",
    "    \n",
    "    \n",
    "if __name__==\"__main__\":\n",
    "    mat_1 = makeMatrix(3,3)\n",
    "    print(mat_1)\n",
    "    print(mat_2)\n",
    "    print(result)\n",
    "    \n",
    "    mat_1 = makeMatrix(3,3)\n",
    "    mat_2 = makeMatrix(3,5)\n",
    "    result = matMul(mat_1,mat_2)\n",
    "    print(mat_1)\n",
    "    print(mat_2)\n",
    "    print(result)\n",
    "    \n",
    "    mat_1 = makeMatrix(2,3)\n",
    "    mat_2 = makeMatrix(3,2)\n",
    "    result = matMul(mat_1,mat_2)\n",
    "    print(mat_1)\n",
    "    print(mat_2)\n",
    "    print(result)"
   ]
  },
  {
   "cell_type": "code",
   "execution_count": 4,
   "metadata": {},
   "outputs": [
    {
     "name": "stdout",
     "output_type": "stream",
     "text": [
      "2\n",
      "4\n",
      "3\n",
      "1\n",
      "5\n"
     ]
    }
   ],
   "source": [
    "import random\n",
    "\n",
    "def random_pop(data):\n",
    "    number = random.randint(0,len(data)-1)\n",
    "    return data.pop(number)\n",
    "\n",
    "if __name__==\"__main__\":\n",
    "    data = [1,2,3,4,5]\n",
    "    while data:\n",
    "        print(random_pop(data))"
   ]
  },
  {
   "cell_type": "code",
   "execution_count": 14,
   "metadata": {},
   "outputs": [
    {
     "name": "stdout",
     "output_type": "stream",
     "text": [
      "[[0, 0, 0, 0, 0, 0, 0, 0, 0, 0], [0, 0, 0, 0, 0, 0, 0, 0, 0, 0], [0, 0, 0, 0, 0, 0, 0, 0, 0, 0], [0, 0, 0, 0, 0, 0, 0, 0, 0, 0], [0, 0, 0, 0, 0, 0, 0, 0, 0, 0], [0, 0, 0, 0, 0, 0, 0, 0, 0, 0], [0, 0, 0, 0, 0, 0, 0, 0, 0, 0], [0, 0, 0, 0, 0, 0, 0, 0, 0, 0], [0, 0, 0, 0, 0, 0, 0, 0, 0, 0], [0, 0, 0, 0, 0, 0, 0, 0, 0, 0]]\n"
     ]
    }
   ],
   "source": [
    "import random\n",
    "\n",
    "random.seed(20167149)\n",
    "\n",
    "a = random.randint(1,5)\n",
    "matrix = [[0 for row in range(10)] for col in range(10)]\n",
    "print(matrix)"
   ]
  },
  {
   "cell_type": "code",
   "execution_count": null,
   "metadata": {},
   "outputs": [],
   "source": []
  }
 ],
 "metadata": {
  "kernelspec": {
   "display_name": "Python 3",
   "language": "python",
   "name": "python3"
  },
  "language_info": {
   "codemirror_mode": {
    "name": "ipython",
    "version": 3
   },
   "file_extension": ".py",
   "mimetype": "text/x-python",
   "name": "python",
   "nbconvert_exporter": "python",
   "pygments_lexer": "ipython3",
   "version": "3.6.6"
  }
 },
 "nbformat": 4,
 "nbformat_minor": 2
}
