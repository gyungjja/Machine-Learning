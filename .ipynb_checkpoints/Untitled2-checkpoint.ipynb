{
 "cells": [
  {
   "cell_type": "code",
   "execution_count": null,
   "metadata": {},
   "outputs": [],
   "source": [
    "n = input()\n",
    "n = list(n)\n",
    "print(\"입력받은 정수 =\",n)\n",
    "\n",
    "if n > list(n):\n",
    "    max = n\n",
    "if n < list(n):\n",
    "    min = n\n",
    "print(\"입력받은 정수에서 최대값은 =\",max\n",
    "print(\"입력받은 정수에서 최소값은 =\",min)"
   ]
  },
  {
   "cell_type": "code",
   "execution_count": null,
   "metadata": {},
   "outputs": [],
   "source": [
    "sum = 0 #합을 나타내기 위한 sum변수 생성후 초기값\n",
    "for i in range(1,n+1): # 1에서 n까지 반복\n",
    "    sum+=i  #sum 변수에 값 저장\n",
    "    if sum >= 10000: #합이 10000보다 크면\n",
    "        break;  #탈출\n",
    "print(\"1부터 n까지의 합은 =\",sum-i) #10000이 넘어야 break가 되어서 sum에서 i를 빼준다.\n",
    "print(\"n의 값은 =\",i-1) #10000이 넘어야 break가 되어서 i에서 1을 빼준다."
   ]
  },
  {
   "cell_type": "code",
   "execution_count": null,
   "metadata": {},
   "outputs": [],
   "source": [
    "list_n = []\n",
    "list_n = input()\n",
    "print(\"정수 10개를 입력 하세요 =\",list_n)\n",
    "max = list_n[0]\n",
    "min = list_n[0]\n",
    "\n",
    "for i in list_n:\n",
    "    if i > max:\n",
    "        max = i\n",
    "    if i < min:\n",
    "        min = i\n",
    "\n",
    "print(\"최대값은 = \",max)\n",
    "print(\"최소값은 = \",min)"
   ]
  },
  {
   "cell_type": "code",
   "execution_count": null,
   "metadata": {},
   "outputs": [],
   "source": [
    "\n"
   ]
  },
  {
   "cell_type": "code",
   "execution_count": null,
   "metadata": {},
   "outputs": [],
   "source": []
  }
 ],
 "metadata": {
  "kernelspec": {
   "display_name": "Python 3",
   "language": "python",
   "name": "python3"
  },
  "language_info": {
   "codemirror_mode": {
    "name": "ipython",
    "version": 3
   },
   "file_extension": ".py",
   "mimetype": "text/x-python",
   "name": "python",
   "nbconvert_exporter": "python",
   "pygments_lexer": "ipython3",
   "version": "3.6.6"
  }
 },
 "nbformat": 4,
 "nbformat_minor": 2
}
