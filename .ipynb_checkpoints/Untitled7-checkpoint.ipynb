{
 "cells": [
  {
   "cell_type": "code",
   "execution_count": 10,
   "metadata": {},
   "outputs": [
    {
     "name": "stdout",
     "output_type": "stream",
     "text": [
      "     Id  MSSubClass MSZoning  LotFrontage  LotArea Street Alley LotShape  \\\n",
      "0  1461          20       RH         80.0    11622   Pave   NaN      Reg   \n",
      "1  1462          20       RL         81.0    14267   Pave   NaN      IR1   \n",
      "2  1463          60       RL         74.0    13830   Pave   NaN      IR1   \n",
      "3  1464          60       RL         78.0     9978   Pave   NaN      IR1   \n",
      "4  1465         120       RL         43.0     5005   Pave   NaN      IR1   \n",
      "\n",
      "  LandContour Utilities      ...       ScreenPorch PoolArea PoolQC  Fence  \\\n",
      "0         Lvl    AllPub      ...               120        0    NaN  MnPrv   \n",
      "1         Lvl    AllPub      ...                 0        0    NaN    NaN   \n",
      "2         Lvl    AllPub      ...                 0        0    NaN  MnPrv   \n",
      "3         Lvl    AllPub      ...                 0        0    NaN    NaN   \n",
      "4         HLS    AllPub      ...               144        0    NaN    NaN   \n",
      "\n",
      "  MiscFeature MiscVal MoSold  YrSold  SaleType  SaleCondition  \n",
      "0         NaN       0      6    2010        WD         Normal  \n",
      "1        Gar2   12500      6    2010        WD         Normal  \n",
      "2         NaN       0      3    2010        WD         Normal  \n",
      "3         NaN       0      6    2010        WD         Normal  \n",
      "4         NaN       0      1    2010        WD         Normal  \n",
      "\n",
      "[5 rows x 80 columns]\n"
     ]
    }
   ],
   "source": [
    "import os\n",
    "import tarfile\n",
    "import urllib.request\n",
    "import pandas as pd\n",
    "import matplotlib.pyplot as plt\n",
    "import numpy as np\n",
    "from sklearn.model_selection import train_test_split\n",
    "\n",
    "DOWNLOAD_ROOT = \"https://www.kaggle.com/c/house-prices-advanced-regression-techniques/data\"\n",
    "TEST_PATH = os.path.join(\"datasets\",\"test\")\n",
    "TEST_URL = DOWNLOAD_ROOT + \"datasets/test/test.csv.tgz\"\n",
    "\n",
    "def fetch_test_data(test_url=TEST_URL, test_path=TEST_PATH):\n",
    "    if not os.path.isdir(test_path):\n",
    "        os.makedirs(test_path)\n",
    "        \n",
    "    tgz_path = os.path.join(test_path, \"test.csv.gz\")\n",
    "    if not os.path.isfile(tgz_path):\n",
    "        urllib.request.urlretrieve(test_url, tgz_path)      \n",
    "        test.csv.tgz=tarfile.open(tgz_path)\n",
    "        test.tgz.extractall(path=test_path)\n",
    "        test.csv.tgz.close()\n",
    "        \n",
    "def load_test_data(test_path=TEST_PATH):\n",
    "    csv_path = os.path.join(test_path, \"test.csv\")\n",
    "    return pd.read_csv(csv_path)\n",
    "\n",
    "def split_train_test(data, test_ratio):\n",
    "    shuffled_indices = np.random.permutation(len(data))\n",
    "    test_set_size = int(len(data) * test_ratio)\n",
    "    test_indices = shuffled_indices[:test_set_size]\n",
    "    train_indices = shuffled_indices[test_set_size:]\n",
    "    return data.iloc[train_indices], data.iloc[test_indices]\n",
    "\n",
    "if __name__==\"__main__\":\n",
    "    fetch_test_data()\n",
    "    test = load_test_data()\n",
    "    #test.hist(bins=50, figsize=(20,15))\n",
    "    #train_set, test_set = train_test_split(test,test_size=0.2, random_state=42)\n",
    "    print(test.head())\n",
    "    #print(test.info())\n",
    "    #print(test[\"Alley\"].value_counts())\n",
    "    #print(test.describe())\n",
    "    #plt.show()\n",
    "    #print(len(train_set), \"train +\", len(test_set), \"test\")"
   ]
  }
 ],
 "metadata": {
  "kernelspec": {
   "display_name": "Python 3",
   "language": "python",
   "name": "python3"
  },
  "language_info": {
   "codemirror_mode": {
    "name": "ipython",
    "version": 3
   },
   "file_extension": ".py",
   "mimetype": "text/x-python",
   "name": "python",
   "nbconvert_exporter": "python",
   "pygments_lexer": "ipython3",
   "version": "3.6.6"
  }
 },
 "nbformat": 4,
 "nbformat_minor": 2
}
