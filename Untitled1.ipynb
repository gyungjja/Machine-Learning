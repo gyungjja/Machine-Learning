{
 "cells": [
  {
   "cell_type": "code",
   "execution_count": 9,
   "metadata": {},
   "outputs": [
    {
     "name": "stdout",
     "output_type": "stream",
     "text": [
      "반복 숫자 입력10\n",
      "숫자 입력1\n",
      "[1]\n",
      "숫자 입력55\n",
      "[1, 55]\n",
      "숫자 입력66\n",
      "[1, 55, 66]\n",
      "숫자 입력77\n",
      "[1, 55, 66, 77]\n",
      "숫자 입력88\n",
      "[1, 55, 66, 77, 88]\n",
      "숫자 입력99\n",
      "[1, 55, 66, 77, 88, 99]\n",
      "숫자 입력100\n",
      "[1, 55, 66, 77, 88, 99, 100]\n",
      "숫자 입력1515\n",
      "[1, 55, 66, 77, 88, 99, 100, 1515]\n",
      "숫자 입력123\n",
      "[1, 55, 66, 77, 88, 99, 100, 1515, 123]\n",
      "숫자 입력456\n",
      "[1, 55, 66, 77, 88, 99, 100, 1515, 123, 456]\n",
      "입력받은 정수에서 최댓값은 =  1515\n",
      "입력받은 정수에서 최솟값은 =  1\n"
     ]
    }
   ],
   "source": [
    "list_n = [] #list_n 이라는 변수에 리스트 선언\n",
    "num = int(input(\"반복 숫자 입력\")) #num 변수에 정수형 사용자입력 함수 선언\n",
    "for i in range(num): #i가 num까지 반복\n",
    "    num2 = int(input(\"숫자 입력\")) #num2 변수에 정수형 사용자입력 함수 선언\n",
    "    list_n.append(num2) #리스트에 요소 추가\n",
    "    print(list_n) #출력\n",
    "    \n",
    "print(\"입력받은 정수에서 최댓값은 = \",max(list_n)) #리스트에서 최대값 max()사용\n",
    "print(\"입력받은 정수에서 최솟값은 = \",min(list_n)) #리스트에서 최소값 min()사용"
   ]
  },
  {
   "cell_type": "code",
   "execution_count": 8,
   "metadata": {},
   "outputs": [
    {
     "ename": "IndentationError",
     "evalue": "expected an indented block (<ipython-input-8-89f99715e096>, line 31)",
     "output_type": "error",
     "traceback": [
      "\u001b[1;36m  File \u001b[1;32m\"<ipython-input-8-89f99715e096>\"\u001b[1;36m, line \u001b[1;32m31\u001b[0m\n\u001b[1;33m    if __name__ == \"__main__\":\u001b[0m\n\u001b[1;37m     ^\u001b[0m\n\u001b[1;31mIndentationError\u001b[0m\u001b[1;31m:\u001b[0m expected an indented block\n"
     ]
    }
   ],
   "source": [
    "import random\n",
    "import pickle\n",
    "import os\n",
    "\n",
    "random.seed(20167149)\n",
    "def makelist():\n",
    "    mylist = []\n",
    "    r_num = random.randint(0,9)\n",
    "    \n",
    "    for i in range(30):\n",
    "        list.append(r_num)\n",
    "        \n",
    "    return mylist\n",
    "    \n",
    "    \n",
    "def savefile(filepath, MLdatalist):#makelist()에서 만든 리스트를 파일로 저장\n",
    "    f = open(\"test.txt\",\"w\")\n",
    "    mylist = []\n",
    "    pickle.dump(mylist,f)\n",
    "    f.close()\n",
    "    \n",
    "def loadfile(filepath):#파일에 저장된 리스트를 읽어서 반환\n",
    "    f = open(\"test.txt\",\"rb\")\n",
    "    data = pickle.load(f)\n",
    "    print(mylist)\n",
    "    \n",
    "    return f\n",
    "    \n",
    "def print_dvalue(MLdatalist): #각숫자가 몇번 중복되어 나오는지\n",
    "    \n",
    "if __name__ == \"__main__\":\n",
    "    file_path = os.getcwd() + \"/ML-data.pkl\"\n",
    "    MLdatalist = makelist()\n",
    "    savefile(file_path, MLdatalist)\n",
    "    \n",
    "    del MLdatalist\n",
    "    MLdatalist = loadfile(file_path)\n",
    "    print_dvalue(MLdatalist)"
   ]
  },
  {
   "cell_type": "code",
   "execution_count": null,
   "metadata": {},
   "outputs": [],
   "source": []
  }
 ],
 "metadata": {
  "kernelspec": {
   "display_name": "Python 3",
   "language": "python",
   "name": "python3"
  },
  "language_info": {
   "codemirror_mode": {
    "name": "ipython",
    "version": 3
   },
   "file_extension": ".py",
   "mimetype": "text/x-python",
   "name": "python",
   "nbconvert_exporter": "python",
   "pygments_lexer": "ipython3",
   "version": "3.6.6"
  }
 },
 "nbformat": 4,
 "nbformat_minor": 2
}
