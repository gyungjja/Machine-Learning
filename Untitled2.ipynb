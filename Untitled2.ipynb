{
 "cells": [
  {
   "cell_type": "code",
   "execution_count": 21,
   "metadata": {},
   "outputs": [
    {
     "name": "stdout",
     "output_type": "stream",
     "text": [
      "1 10 50 60 70 90 80 77 66 12\n",
      "입력받은 정수 = ['1', ' ', '1', '0', ' ', '5', '0', ' ', '6', '0', ' ', '7', '0', ' ', '9', '0', ' ', '8', '0', ' ', '7', '7', ' ', '6', '6', ' ', '1', '2']\n",
      "입력받은 정수에서 최대값은 = 9\n",
      "입력받은 정수에서 최소값은 = 1\n"
     ]
    }
   ],
   "source": [
    "n = input()\n",
    "n = list(n)\n",
    "print(\"입력받은 정수 =\",n)\n",
    "\n",
    "if n > list(n):\n",
    "    max = n\n",
    "if n < list(n):\n",
    "    min = n\n",
    "print(\"입력받은 정수에서 최대값은 =\",max)\n",
    "print(\"입력받은 정수에서 최소값은 =\",min)"
   ]
  },
  {
   "cell_type": "code",
   "execution_count": null,
   "metadata": {},
   "outputs": [],
   "source": [
    "sum = 0 #합을 나타내기 위한 sum변수 생성후 초기값\n",
    "for i in range(1,n+1): # 1에서 n까지 반복\n",
    "    sum+=i  #sum 변수에 값 저장\n",
    "    if sum >= 10000: #합이 10000보다 크면\n",
    "        break;  #탈출\n",
    "print(\"1부터 n까지의 합은 =\",sum-i) #10000이 넘어야 break가 되어서 sum에서 i를 빼준다.\n",
    "print(\"n의 값은 =\",i-1) #10000이 넘어야 break가 되어서 i에서 1을 빼준다."
   ]
  },
  {
   "cell_type": "code",
   "execution_count": 16,
   "metadata": {},
   "outputs": [
    {
     "name": "stdout",
     "output_type": "stream",
     "text": [
      "정수 10개를 입력하세요: 12345678910\n"
     ]
    },
    {
     "ename": "TypeError",
     "evalue": "'int' object is not iterable",
     "output_type": "error",
     "traceback": [
      "\u001b[1;31m---------------------------------------------------------------------------\u001b[0m",
      "\u001b[1;31mTypeError\u001b[0m                                 Traceback (most recent call last)",
      "\u001b[1;32m<ipython-input-16-14a32db8ec26>\u001b[0m in \u001b[0;36m<module>\u001b[1;34m()\u001b[0m\n\u001b[0;32m      5\u001b[0m \u001b[1;33m\u001b[0m\u001b[0m\n\u001b[0;32m      6\u001b[0m \u001b[1;33m\u001b[0m\u001b[0m\n\u001b[1;32m----> 7\u001b[1;33m \u001b[1;32mfor\u001b[0m \u001b[0mi\u001b[0m \u001b[1;32min\u001b[0m \u001b[0mlist_n\u001b[0m\u001b[1;33m:\u001b[0m\u001b[1;33m\u001b[0m\u001b[0m\n\u001b[0m\u001b[0;32m      8\u001b[0m     \u001b[1;32mif\u001b[0m \u001b[0mi\u001b[0m \u001b[1;33m>\u001b[0m \u001b[0mmax\u001b[0m\u001b[1;33m:\u001b[0m\u001b[1;33m\u001b[0m\u001b[0m\n\u001b[0;32m      9\u001b[0m         \u001b[0mmax\u001b[0m \u001b[1;33m=\u001b[0m \u001b[0mi\u001b[0m\u001b[1;33m\u001b[0m\u001b[0m\n",
      "\u001b[1;31mTypeError\u001b[0m: 'int' object is not iterable"
     ]
    }
   ],
   "source": [
    "list_n = []\n",
    "list_n = int(input('정수 10개를 입력하세요: '))\n",
    "\n",
    "max = list_n[0]\n",
    "min = list_n[0]\n",
    "\n",
    "\n",
    "for i in list_n:\n",
    "    if i > max:\n",
    "        max = i\n",
    "    if i < min:\n",
    "        min = i\n",
    "\n",
    "print(\"최대값은 = \",max)\n",
    "print(\"최소값은 = \",min)"
   ]
  },
  {
   "cell_type": "code",
   "execution_count": 9,
   "metadata": {},
   "outputs": [
    {
     "name": "stdout",
     "output_type": "stream",
     "text": [
      "반복 숫자 입력30\n",
      "숫자 입력1\n",
      "[1]\n",
      "숫자 입력1\n",
      "[1, 1]\n",
      "숫자 입력1\n",
      "[1, 1, 1]\n",
      "숫자 입력1\n",
      "[1, 1, 1, 1]\n",
      "숫자 입력1\n",
      "[1, 1, 1, 1, 1]\n",
      "숫자 입력1\n",
      "[1, 1, 1, 1, 1, 1]\n",
      "숫자 입력1\n",
      "[1, 1, 1, 1, 1, 1, 1]\n",
      "숫자 입력1\n",
      "[1, 1, 1, 1, 1, 1, 1, 1]\n",
      "숫자 입력1\n",
      "[1, 1, 1, 1, 1, 1, 1, 1, 1]\n",
      "숫자 입력\n"
     ]
    },
    {
     "ename": "ValueError",
     "evalue": "invalid literal for int() with base 10: ''",
     "output_type": "error",
     "traceback": [
      "\u001b[1;31m---------------------------------------------------------------------------\u001b[0m",
      "\u001b[1;31mValueError\u001b[0m                                Traceback (most recent call last)",
      "\u001b[1;32m<ipython-input-9-46a8c6e789e0>\u001b[0m in \u001b[0;36m<module>\u001b[1;34m()\u001b[0m\n\u001b[0;32m      2\u001b[0m \u001b[0mnum\u001b[0m \u001b[1;33m=\u001b[0m \u001b[0mint\u001b[0m\u001b[1;33m(\u001b[0m\u001b[0minput\u001b[0m\u001b[1;33m(\u001b[0m\u001b[1;34m\"반복 숫자 입력\"\u001b[0m\u001b[1;33m)\u001b[0m\u001b[1;33m)\u001b[0m\u001b[1;33m\u001b[0m\u001b[0m\n\u001b[0;32m      3\u001b[0m \u001b[1;32mfor\u001b[0m \u001b[0mi\u001b[0m \u001b[1;32min\u001b[0m \u001b[0mrange\u001b[0m\u001b[1;33m(\u001b[0m\u001b[0mnum\u001b[0m\u001b[1;33m)\u001b[0m\u001b[1;33m:\u001b[0m\u001b[1;33m\u001b[0m\u001b[0m\n\u001b[1;32m----> 4\u001b[1;33m     \u001b[0mnum2\u001b[0m \u001b[1;33m=\u001b[0m \u001b[0mint\u001b[0m\u001b[1;33m(\u001b[0m\u001b[0minput\u001b[0m\u001b[1;33m(\u001b[0m\u001b[1;34m\"숫자 입력\"\u001b[0m\u001b[1;33m)\u001b[0m\u001b[1;33m)\u001b[0m\u001b[1;33m\u001b[0m\u001b[0m\n\u001b[0m\u001b[0;32m      5\u001b[0m     \u001b[0mlist_n\u001b[0m\u001b[1;33m.\u001b[0m\u001b[0mappend\u001b[0m\u001b[1;33m(\u001b[0m\u001b[0mnum2\u001b[0m\u001b[1;33m)\u001b[0m\u001b[1;33m\u001b[0m\u001b[0m\n\u001b[0;32m      6\u001b[0m     \u001b[0mprint\u001b[0m\u001b[1;33m(\u001b[0m\u001b[0mlist_n\u001b[0m\u001b[1;33m)\u001b[0m\u001b[1;33m\u001b[0m\u001b[0m\n",
      "\u001b[1;31mValueError\u001b[0m: invalid literal for int() with base 10: ''"
     ]
    }
   ],
   "source": [
    "list_n = []\n",
    "num = int(input(\"반복 숫자 입력\"))\n",
    "for i in range(num):\n",
    "    num2 = int(input(\"숫자 입력\"))\n",
    "    list_n.append(num2)\n",
    "    print(list_n)\n",
    "    \n",
    "for j in list_n:    \n",
    "    if i > max:\n",
    "        max = i\n",
    "    if i < min:1\n",
    "        1\n",
    "        1\n",
    "        1\n",
    "        1\n",
    "        1\n",
    "        \n",
    "        min = i\n",
    "print(\"입력받은 정수에서 최댓값은 = \",max)\n",
    "print(\"입력받은 정수에서 최솟값은 = \",min)\n",
    "\n"
   ]
  },
  {
   "cell_type": "code",
   "execution_count": null,
   "metadata": {},
   "outputs": [],
   "source": [
    "list_n = []\n",
    "num = int(input(\"반복 숫자 입력\"))\n",
    "for i in range(num):\n",
    "    num2 = int(input(\"숫자 입력\"))\n",
    "    list_n.append(num2)\n",
    "    print(list_n)\n",
    "    \n",
    "for j in list_n:    \n",
    "    if i > max:\n",
    "        max = i\n",
    "    if i < min:\n",
    "        min = i\n",
    "print(\"입력받은 정수에서 최댓값은 = \",max)\n",
    "print(\"입력받은 정수에서 최솟값은 = \",min)\n"
   ]
  },
  {
   "cell_type": "code",
   "execution_count": 11,
   "metadata": {},
   "outputs": [],
   "source": [
    "import random\n",
    "\n",
    "def makelist():\n",
    "    mylist = []\n",
    "    r_num = random.randint(0,9)\n",
    "    \n",
    "    for i in range(30):\n",
    "        list.append(r_num)\n",
    "        \n",
    "    return mylist"
   ]
  },
  {
   "cell_type": "code",
   "execution_count": null,
   "metadata": {},
   "outputs": [],
   "source": []
  }
 ],
 "metadata": {
  "kernelspec": {
   "display_name": "Python 3",
   "language": "python",
   "name": "python3"
  },
  "language_info": {
   "codemirror_mode": {
    "name": "ipython",
    "version": 3
   },
   "file_extension": ".py",
   "mimetype": "text/x-python",
   "name": "python",
   "nbconvert_exporter": "python",
   "pygments_lexer": "ipython3",
   "version": "3.6.6"
  }
 },
 "nbformat": 4,
 "nbformat_minor": 2
}
