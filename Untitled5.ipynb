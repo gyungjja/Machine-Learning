{
 "cells": [
  {
   "cell_type": "code",
   "execution_count": null,
   "metadata": {},
   "outputs": [],
   "source": [
    "import pickle\n",
    "import os\n",
    "import numpy as np\n",
    "import urllib.request\n",
    "import re\n",
    "\n",
    "np.random.seed(20167149)\n",
    "def makeMatrix():\n",
    "    a = np.random.randint(6, size=40)\n",
    "    return a\n",
    "def savefile(filepath,matrix):\n",
    "    f = open(\"test.txt\",\"wb\")\n",
    "    a = np.random.randint(6,size=40)\n",
    "    pickle.dump(a,f)\n",
    "    f.close()\n",
    "def loadfile(filepath):\n",
    "    f = open(\"test.txt\",\"rb\")\n",
    "    data = pickle.load(f)\n",
    "    print(a)\n",
    "def check_size(url):\n",
    "    f = open(\"test.txt\",\"w\")\n",
    "    b = urllib.request.urlopen(\"http://210.115.230.193/data/size.txt\")\n",
    "    f.write(str(b.read().decode(\"utf-8\")))\n",
    "    f.close()\n",
    "def nanToZero(matrix):\n",
    "    \n",
    "def matchShape(matrix,row,col):\n",
    "    m1 = a.reshape(5,8)\n",
    "    m2 = a.reshape(8,5)\n",
    "    return m1,m2\n",
    "def matMul(mat1, mat2):\n",
    "    print(np.dot(mat1,mat2))\n",
    "\n"
   ]
  }
 ],
 "metadata": {
  "kernelspec": {
   "display_name": "Python 3",
   "language": "python",
   "name": "python3"
  },
  "language_info": {
   "codemirror_mode": {
    "name": "ipython",
    "version": 3
   },
   "file_extension": ".py",
   "mimetype": "text/x-python",
   "name": "python",
   "nbconvert_exporter": "python",
   "pygments_lexer": "ipython3",
   "version": "3.6.6"
  }
 },
 "nbformat": 4,
 "nbformat_minor": 2
}
